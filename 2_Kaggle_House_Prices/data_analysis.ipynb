{
 "cells": [
  {
   "cell_type": "markdown",
   "metadata": {},
   "source": [
    "*本文参考作者[Pedro Marcelino](https://www.kaggle.com/pmarcelino)在Kaggle竞赛[House Prices: Advanced Regression Techniques](https://www.kaggle.com/c/house-prices-advanced-regression-techniques)中分享的数据分析方法，结合网上其他大牛的解读，对基本的数据分析过程进行实践*\n",
    "\n",
    "\n",
    "# Kaggle: House Prices 数据分析篇\n",
    "\n",
    "## 0. 引言\n",
    "\n",
    "**'The most difficult thing in life is to konow yourself'--Thales of Miletus**\n",
    "\n",
    "数据分析不一定是数据科学中最难的部分，但却是非常耗时的，因此，我们往往忽略这最初的一步，并迫不及待的想要跳到工程水池中去。实际上，在真正开始一个机器学习工程之前，我们应该先学会如何分析手里的数据，这将有助于我们认识数据，并更好的开展后续的工作。\n",
    "\n",
    "**分析数据的核心方法包括以下5个方面：**\n",
    "1. **理解问题：** 查看每个变量，并对它们的含义以及关于问题的重要程度进行哲学性分析\n",
    "2. **单因素研究：** 只关注因变量，并尝试对其进行更深入的理解\n",
    "3. **多因素研究：** 尝试分析因变量和自变量之间的关系\n",
    "4. **基本清洗：** 清洗数据，并对缺失数据、异常值和类别特征进行一些处理\n",
    "5. **假设检验：** 检查数据是否与多元分析方法的假设达到一致"
   ]
  },
  {
   "cell_type": "markdown",
   "metadata": {},
   "source": []
  },
  {
   "cell_type": "markdown",
   "metadata": {},
   "source": [
    "## References\n",
    "- https://www.kaggle.com/pmarcelino/comprehensive-data-exploration-with-python/notebook\n",
    "- https://www.jianshu.com/p/defcbbfdb324\n",
    "- https://www.leiphone.com/news/201704/Py7Mu3TwRF97pWc7.html"
   ]
  }
 ],
 "metadata": {
  "kernelspec": {
   "display_name": "Python 3",
   "language": "python",
   "name": "python3"
  },
  "language_info": {
   "codemirror_mode": {
    "name": "ipython",
    "version": 3
   },
   "file_extension": ".py",
   "mimetype": "text/x-python",
   "name": "python",
   "nbconvert_exporter": "python",
   "pygments_lexer": "ipython3",
   "version": "3.6.3"
  }
 },
 "nbformat": 4,
 "nbformat_minor": 2
}
